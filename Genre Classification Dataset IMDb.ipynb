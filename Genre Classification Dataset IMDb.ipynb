import pandas as pd
from sklearn.feature_extraction.text import TfidfVectorizer
from sklearn.model_selection import train_test_split
from sklearn.naive_bayes import MultinomialNB
from sklearn.metrics import classification_report
import nltk
from nltk.corpus import stopwords
from nltk.tokenize import word_tokenize
nltk.download('punkt')
nltk.download('stopwords')

train_data = pd.read_csv("/content/drive/MyDrive/DataSets/CodeWay DataSets/Genre Classification Dataset/train_data.txt", delimiter=":::", engine="python", header=None, names=["ID", "Title", "Genre", "Plot"])
test_data = pd.read_csv("/content/drive/MyDrive/DataSets/CodeWay DataSets/Genre Classification Dataset/test_data.txt", delimiter=":::", engine="python", header=None, names=["ID", "Title", "Plot"])

stop_words = set(stopwords.words('english'))

def preprocess_text(text):
    tokens = word_tokenize(text)
    filtered_tokens = [word.lower() for word in tokens if word.isalnum() and word.lower() not in stop_words]
    return ' '.join(filtered_tokens)

train_data['Processed_Plot'] = train_data['Plot'].apply(preprocess_text)
test_data['Processed_Plot'] = test_data['Plot'].apply(preprocess_text)

vectorizer = TfidfVectorizer(max_features=5000)  # You can adjust the max_features parameter
X_train = vectorizer.fit_transform(train_data['Processed_Plot'])
y_train = train_data['Genre']

X_train_split, X_val, y_train_split, y_val = train_test_split(X_train, y_train, test_size=0.2, random_state=42)

model = MultinomialNB()
model.fit(X_train_split, y_train_split)

y_pred = model.predict(X_val)
print(classification_report(y_val, y_pred))

X_test = vectorizer.transform(test_data['Processed_Plot'])
test_predictions = model.predict(X_test)

test_data['Predicted_Genre'] = test_predictions
test_data.to_csv("predicted_genres.csv", index=False)

y_pred = model.predict(X_val)
print(classification_report(y_val, y_pred))

X_test = vectorizer.transform(test_data['Processed_Plot'])
test_predictions = model.predict(X_test)

test_data['Predicted_Genre'] = test_predictions
test_data.to_csv("predicted_genres.csv", index=False)

# Sample new movie description
new_description = "A young woman discovers she has inherited a farm from her estranged grandmother. She decides to visit the farm and uncover the secrets of her family's past."

# Preprocess the new description
processed_description = preprocess_text(new_description)

# Vectorize the preprocessed description using the same vectorizer used for training
X_new = vectorizer.transform([processed_description])

# Make prediction using the trained model
predicted_genre = model.predict(X_new)

print("Predicted Genre:", predicted_genre)



# Sample new movie description
new_description = "A group of friends embark on a thrilling adventure to uncover a hidden treasure in the heart of the jungle."

# Preprocess the new description
processed_description = preprocess_text(new_description)

# Vectorize the preprocessed description using the same vectorizer used for training
X_new = vectorizer.transform([processed_description])

# Make prediction using the trained model
predicted_genre = model.predict(X_new)

print("Predicted Genre:", predicted_genre)


# Sample new movie description
new_description = "A young wizard enrolls in a prestigious school of magic, where he uncovers dark secrets and confronts powerful enemies."

# Preprocess the new description
processed_description = preprocess_text(new_description)

# Vectorize the preprocessed description using the same vectorizer used for training
X_new = vectorizer.transform([processed_description])

# Make prediction using the trained model
predicted_genre = model.predict(X_new)

print("Predicted Genre:", predicted_genre)


from sklearn.metrics import accuracy_score

# Calculate accuracy
accuracy = accuracy_score(y_val, y_pred)
print("Accuracy:", accuracy)


test_data.head()

train_data.head()
